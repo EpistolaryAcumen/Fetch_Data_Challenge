{
 "cells": [
  {
   "cell_type": "markdown",
   "id": "0ba92c91",
   "metadata": {},
   "source": [
    "# Fetch Challenge - Requirement 1\n",
    "\n",
    "Review unstructured JSON data and diagram a new structured relational data model.\n",
    "\n",
    "I will use the pandas library to analyze the data. My goal here is to:\n",
    "- Get familiar with the data files one by one\n",
    "- Prep them for a Data Model (remove duplicates, clean etc..)\n",
    "- Start to think about how they relate to each other\n",
    "\n",
    "With this knowledge, I'll be better-equipped to diagram it out, establish one-to-many, many-to-one relationships and all that."
   ]
  },
  {
   "cell_type": "code",
   "execution_count": 2,
   "id": "20916c98",
   "metadata": {},
   "outputs": [],
   "source": [
    "import pandas as pd\n",
    "pd.options.mode.chained_assignment = None"
   ]
  },
  {
   "cell_type": "code",
   "execution_count": 3,
   "id": "829c7f03",
   "metadata": {},
   "outputs": [],
   "source": [
    "# Read in the JSON files as pandas dataframes\n",
    "\n",
    "users = pd.read_json('JSON-Files/users.json', lines=True)\n",
    "brands = pd.read_json('JSON-Files/brands.json', lines=True)\n",
    "receipts = pd.read_json('JSON-Files/receipts.json', lines=True)"
   ]
  },
  {
   "cell_type": "markdown",
   "id": "cb36e687",
   "metadata": {},
   "source": [
    "## Users\n",
    "\n",
    "Lets examine the Users dataframe first and answer the question: is it ready to be a table as is in our Data Model, or should we make changes?"
   ]
  },
  {
   "cell_type": "code",
   "execution_count": 4,
   "id": "0a0fa0d5",
   "metadata": {},
   "outputs": [
    {
     "data": {
      "text/html": [
       "<div>\n",
       "<style scoped>\n",
       "    .dataframe tbody tr th:only-of-type {\n",
       "        vertical-align: middle;\n",
       "    }\n",
       "\n",
       "    .dataframe tbody tr th {\n",
       "        vertical-align: top;\n",
       "    }\n",
       "\n",
       "    .dataframe thead th {\n",
       "        text-align: right;\n",
       "    }\n",
       "</style>\n",
       "<table border=\"1\" class=\"dataframe\">\n",
       "  <thead>\n",
       "    <tr style=\"text-align: right;\">\n",
       "      <th></th>\n",
       "      <th>_id</th>\n",
       "      <th>active</th>\n",
       "      <th>createdDate</th>\n",
       "      <th>lastLogin</th>\n",
       "      <th>role</th>\n",
       "      <th>signUpSource</th>\n",
       "      <th>state</th>\n",
       "    </tr>\n",
       "  </thead>\n",
       "  <tbody>\n",
       "    <tr>\n",
       "      <th>0</th>\n",
       "      <td>{'$oid': '5ff1e194b6a9d73a3a9f1052'}</td>\n",
       "      <td>True</td>\n",
       "      <td>{'$date': 1609687444800}</td>\n",
       "      <td>{'$date': 1609687537858}</td>\n",
       "      <td>consumer</td>\n",
       "      <td>Email</td>\n",
       "      <td>WI</td>\n",
       "    </tr>\n",
       "    <tr>\n",
       "      <th>1</th>\n",
       "      <td>{'$oid': '5ff1e194b6a9d73a3a9f1052'}</td>\n",
       "      <td>True</td>\n",
       "      <td>{'$date': 1609687444800}</td>\n",
       "      <td>{'$date': 1609687537858}</td>\n",
       "      <td>consumer</td>\n",
       "      <td>Email</td>\n",
       "      <td>WI</td>\n",
       "    </tr>\n",
       "    <tr>\n",
       "      <th>2</th>\n",
       "      <td>{'$oid': '5ff1e194b6a9d73a3a9f1052'}</td>\n",
       "      <td>True</td>\n",
       "      <td>{'$date': 1609687444800}</td>\n",
       "      <td>{'$date': 1609687537858}</td>\n",
       "      <td>consumer</td>\n",
       "      <td>Email</td>\n",
       "      <td>WI</td>\n",
       "    </tr>\n",
       "    <tr>\n",
       "      <th>3</th>\n",
       "      <td>{'$oid': '5ff1e1eacfcf6c399c274ae6'}</td>\n",
       "      <td>True</td>\n",
       "      <td>{'$date': 1609687530554}</td>\n",
       "      <td>{'$date': 1609687530597}</td>\n",
       "      <td>consumer</td>\n",
       "      <td>Email</td>\n",
       "      <td>WI</td>\n",
       "    </tr>\n",
       "    <tr>\n",
       "      <th>4</th>\n",
       "      <td>{'$oid': '5ff1e194b6a9d73a3a9f1052'}</td>\n",
       "      <td>True</td>\n",
       "      <td>{'$date': 1609687444800}</td>\n",
       "      <td>{'$date': 1609687537858}</td>\n",
       "      <td>consumer</td>\n",
       "      <td>Email</td>\n",
       "      <td>WI</td>\n",
       "    </tr>\n",
       "  </tbody>\n",
       "</table>\n",
       "</div>"
      ],
      "text/plain": [
       "                                    _id  active               createdDate  \\\n",
       "0  {'$oid': '5ff1e194b6a9d73a3a9f1052'}    True  {'$date': 1609687444800}   \n",
       "1  {'$oid': '5ff1e194b6a9d73a3a9f1052'}    True  {'$date': 1609687444800}   \n",
       "2  {'$oid': '5ff1e194b6a9d73a3a9f1052'}    True  {'$date': 1609687444800}   \n",
       "3  {'$oid': '5ff1e1eacfcf6c399c274ae6'}    True  {'$date': 1609687530554}   \n",
       "4  {'$oid': '5ff1e194b6a9d73a3a9f1052'}    True  {'$date': 1609687444800}   \n",
       "\n",
       "                  lastLogin      role signUpSource state  \n",
       "0  {'$date': 1609687537858}  consumer        Email    WI  \n",
       "1  {'$date': 1609687537858}  consumer        Email    WI  \n",
       "2  {'$date': 1609687537858}  consumer        Email    WI  \n",
       "3  {'$date': 1609687530597}  consumer        Email    WI  \n",
       "4  {'$date': 1609687537858}  consumer        Email    WI  "
      ]
     },
     "execution_count": 4,
     "metadata": {},
     "output_type": "execute_result"
    }
   ],
   "source": [
    "users.head()"
   ]
  },
  {
   "cell_type": "markdown",
   "id": "e076afde",
   "metadata": {},
   "source": [
    "I can tell there are duplicates IDs. We'll need to handle these before this is viable as a database table."
   ]
  },
  {
   "cell_type": "code",
   "execution_count": 5,
   "id": "e87e77dd",
   "metadata": {},
   "outputs": [],
   "source": [
    "users_table = users.drop_duplicates(subset='_id')"
   ]
  },
  {
   "cell_type": "markdown",
   "id": "93e810d1",
   "metadata": {},
   "source": [
    "I dont like how there are dictionaries for the fields: _id, createdDate and lastLogin. This is unclean and will make analysis tricky. We'll use the properties of Python dictionaries to extract the data we want (see next cell):"
   ]
  },
  {
   "cell_type": "code",
   "execution_count": 6,
   "id": "9660869d",
   "metadata": {},
   "outputs": [
    {
     "data": {
      "text/plain": [
       "'5ff1e194b6a9d73a3a9f1052'"
      ]
     },
     "execution_count": 6,
     "metadata": {},
     "output_type": "execute_result"
    }
   ],
   "source": [
    "row = {'$oid': '5ff1e194b6a9d73a3a9f1052'}\n",
    "row['$oid']"
   ]
  },
  {
   "cell_type": "code",
   "execution_count": 7,
   "id": "ea2861c8",
   "metadata": {},
   "outputs": [],
   "source": [
    "users_table['_id'] = users_table['_id'].apply(lambda x: x['$oid'])"
   ]
  },
  {
   "cell_type": "code",
   "execution_count": 8,
   "id": "aca6e53b",
   "metadata": {},
   "outputs": [
    {
     "data": {
      "text/html": [
       "<div>\n",
       "<style scoped>\n",
       "    .dataframe tbody tr th:only-of-type {\n",
       "        vertical-align: middle;\n",
       "    }\n",
       "\n",
       "    .dataframe tbody tr th {\n",
       "        vertical-align: top;\n",
       "    }\n",
       "\n",
       "    .dataframe thead th {\n",
       "        text-align: right;\n",
       "    }\n",
       "</style>\n",
       "<table border=\"1\" class=\"dataframe\">\n",
       "  <thead>\n",
       "    <tr style=\"text-align: right;\">\n",
       "      <th></th>\n",
       "      <th>_id</th>\n",
       "      <th>active</th>\n",
       "      <th>createdDate</th>\n",
       "      <th>lastLogin</th>\n",
       "      <th>role</th>\n",
       "      <th>signUpSource</th>\n",
       "      <th>state</th>\n",
       "    </tr>\n",
       "  </thead>\n",
       "  <tbody>\n",
       "    <tr>\n",
       "      <th>0</th>\n",
       "      <td>5ff1e194b6a9d73a3a9f1052</td>\n",
       "      <td>True</td>\n",
       "      <td>{'$date': 1609687444800}</td>\n",
       "      <td>{'$date': 1609687537858}</td>\n",
       "      <td>consumer</td>\n",
       "      <td>Email</td>\n",
       "      <td>WI</td>\n",
       "    </tr>\n",
       "    <tr>\n",
       "      <th>3</th>\n",
       "      <td>5ff1e1eacfcf6c399c274ae6</td>\n",
       "      <td>True</td>\n",
       "      <td>{'$date': 1609687530554}</td>\n",
       "      <td>{'$date': 1609687530597}</td>\n",
       "      <td>consumer</td>\n",
       "      <td>Email</td>\n",
       "      <td>WI</td>\n",
       "    </tr>\n",
       "  </tbody>\n",
       "</table>\n",
       "</div>"
      ],
      "text/plain": [
       "                        _id  active               createdDate  \\\n",
       "0  5ff1e194b6a9d73a3a9f1052    True  {'$date': 1609687444800}   \n",
       "3  5ff1e1eacfcf6c399c274ae6    True  {'$date': 1609687530554}   \n",
       "\n",
       "                  lastLogin      role signUpSource state  \n",
       "0  {'$date': 1609687537858}  consumer        Email    WI  \n",
       "3  {'$date': 1609687530597}  consumer        Email    WI  "
      ]
     },
     "execution_count": 8,
     "metadata": {},
     "output_type": "execute_result"
    }
   ],
   "source": [
    "users_table.head(2)"
   ]
  },
  {
   "cell_type": "markdown",
   "id": "5a398b3d",
   "metadata": {},
   "source": [
    "Kill two birds with one stone for the date fields. I found out that 1609687537858 is a millisecond timestamp from Google. I also noticed that there are missing values in the lastLogin column. We'll have to contruct our extract_date function to detect if the value is a dictionary first and not a NaN."
   ]
  },
  {
   "cell_type": "code",
   "execution_count": 9,
   "id": "f15401a8",
   "metadata": {},
   "outputs": [],
   "source": [
    "def extract_date(row):\n",
    "    if isinstance(row, dict): # This line addresses a NaN error I got initially\n",
    "        return pd.to_datetime(row['$date'], unit='ms').date()\n",
    "    return row"
   ]
  },
  {
   "cell_type": "code",
   "execution_count": 10,
   "id": "7af2c862",
   "metadata": {},
   "outputs": [],
   "source": [
    "users_table['createdDate'] = users_table['createdDate'].apply(extract_date)\n",
    "users_table['lastLogin'] = users_table['lastLogin'].apply(extract_date)"
   ]
  },
  {
   "cell_type": "code",
   "execution_count": 11,
   "id": "399210c8",
   "metadata": {},
   "outputs": [
    {
     "data": {
      "text/html": [
       "<div>\n",
       "<style scoped>\n",
       "    .dataframe tbody tr th:only-of-type {\n",
       "        vertical-align: middle;\n",
       "    }\n",
       "\n",
       "    .dataframe tbody tr th {\n",
       "        vertical-align: top;\n",
       "    }\n",
       "\n",
       "    .dataframe thead th {\n",
       "        text-align: right;\n",
       "    }\n",
       "</style>\n",
       "<table border=\"1\" class=\"dataframe\">\n",
       "  <thead>\n",
       "    <tr style=\"text-align: right;\">\n",
       "      <th></th>\n",
       "      <th>_id</th>\n",
       "      <th>active</th>\n",
       "      <th>createdDate</th>\n",
       "      <th>lastLogin</th>\n",
       "      <th>role</th>\n",
       "      <th>signUpSource</th>\n",
       "      <th>state</th>\n",
       "    </tr>\n",
       "  </thead>\n",
       "  <tbody>\n",
       "    <tr>\n",
       "      <th>0</th>\n",
       "      <td>5ff1e194b6a9d73a3a9f1052</td>\n",
       "      <td>True</td>\n",
       "      <td>2021-01-03</td>\n",
       "      <td>2021-01-03</td>\n",
       "      <td>consumer</td>\n",
       "      <td>Email</td>\n",
       "      <td>WI</td>\n",
       "    </tr>\n",
       "    <tr>\n",
       "      <th>3</th>\n",
       "      <td>5ff1e1eacfcf6c399c274ae6</td>\n",
       "      <td>True</td>\n",
       "      <td>2021-01-03</td>\n",
       "      <td>2021-01-03</td>\n",
       "      <td>consumer</td>\n",
       "      <td>Email</td>\n",
       "      <td>WI</td>\n",
       "    </tr>\n",
       "    <tr>\n",
       "      <th>6</th>\n",
       "      <td>5ff1e1e8cfcf6c399c274ad9</td>\n",
       "      <td>True</td>\n",
       "      <td>2021-01-03</td>\n",
       "      <td>2021-01-03</td>\n",
       "      <td>consumer</td>\n",
       "      <td>Email</td>\n",
       "      <td>WI</td>\n",
       "    </tr>\n",
       "  </tbody>\n",
       "</table>\n",
       "</div>"
      ],
      "text/plain": [
       "                        _id  active createdDate   lastLogin      role  \\\n",
       "0  5ff1e194b6a9d73a3a9f1052    True  2021-01-03  2021-01-03  consumer   \n",
       "3  5ff1e1eacfcf6c399c274ae6    True  2021-01-03  2021-01-03  consumer   \n",
       "6  5ff1e1e8cfcf6c399c274ad9    True  2021-01-03  2021-01-03  consumer   \n",
       "\n",
       "  signUpSource state  \n",
       "0        Email    WI  \n",
       "3        Email    WI  \n",
       "6        Email    WI  "
      ]
     },
     "execution_count": 11,
     "metadata": {},
     "output_type": "execute_result"
    }
   ],
   "source": [
    "users_table.head(3)"
   ]
  },
  {
   "cell_type": "markdown",
   "id": "e37191a4",
   "metadata": {},
   "source": [
    "## Brands"
   ]
  },
  {
   "cell_type": "code",
   "execution_count": 12,
   "id": "45847ae4",
   "metadata": {},
   "outputs": [
    {
     "data": {
      "text/html": [
       "<div>\n",
       "<style scoped>\n",
       "    .dataframe tbody tr th:only-of-type {\n",
       "        vertical-align: middle;\n",
       "    }\n",
       "\n",
       "    .dataframe tbody tr th {\n",
       "        vertical-align: top;\n",
       "    }\n",
       "\n",
       "    .dataframe thead th {\n",
       "        text-align: right;\n",
       "    }\n",
       "</style>\n",
       "<table border=\"1\" class=\"dataframe\">\n",
       "  <thead>\n",
       "    <tr style=\"text-align: right;\">\n",
       "      <th></th>\n",
       "      <th>_id</th>\n",
       "      <th>barcode</th>\n",
       "      <th>category</th>\n",
       "      <th>categoryCode</th>\n",
       "      <th>cpg</th>\n",
       "      <th>name</th>\n",
       "      <th>topBrand</th>\n",
       "      <th>brandCode</th>\n",
       "    </tr>\n",
       "  </thead>\n",
       "  <tbody>\n",
       "    <tr>\n",
       "      <th>0</th>\n",
       "      <td>{'$oid': '601ac115be37ce2ead437551'}</td>\n",
       "      <td>511111019862</td>\n",
       "      <td>Baking</td>\n",
       "      <td>BAKING</td>\n",
       "      <td>{'$id': {'$oid': '601ac114be37ce2ead437550'}, ...</td>\n",
       "      <td>test brand @1612366101024</td>\n",
       "      <td>0.0</td>\n",
       "      <td>NaN</td>\n",
       "    </tr>\n",
       "    <tr>\n",
       "      <th>1</th>\n",
       "      <td>{'$oid': '601c5460be37ce2ead43755f'}</td>\n",
       "      <td>511111519928</td>\n",
       "      <td>Beverages</td>\n",
       "      <td>BEVERAGES</td>\n",
       "      <td>{'$id': {'$oid': '5332f5fbe4b03c9a25efd0ba'}, ...</td>\n",
       "      <td>Starbucks</td>\n",
       "      <td>0.0</td>\n",
       "      <td>STARBUCKS</td>\n",
       "    </tr>\n",
       "    <tr>\n",
       "      <th>2</th>\n",
       "      <td>{'$oid': '601ac142be37ce2ead43755d'}</td>\n",
       "      <td>511111819905</td>\n",
       "      <td>Baking</td>\n",
       "      <td>BAKING</td>\n",
       "      <td>{'$id': {'$oid': '601ac142be37ce2ead437559'}, ...</td>\n",
       "      <td>test brand @1612366146176</td>\n",
       "      <td>0.0</td>\n",
       "      <td>TEST BRANDCODE @1612366146176</td>\n",
       "    </tr>\n",
       "  </tbody>\n",
       "</table>\n",
       "</div>"
      ],
      "text/plain": [
       "                                    _id       barcode   category categoryCode  \\\n",
       "0  {'$oid': '601ac115be37ce2ead437551'}  511111019862     Baking       BAKING   \n",
       "1  {'$oid': '601c5460be37ce2ead43755f'}  511111519928  Beverages    BEVERAGES   \n",
       "2  {'$oid': '601ac142be37ce2ead43755d'}  511111819905     Baking       BAKING   \n",
       "\n",
       "                                                 cpg  \\\n",
       "0  {'$id': {'$oid': '601ac114be37ce2ead437550'}, ...   \n",
       "1  {'$id': {'$oid': '5332f5fbe4b03c9a25efd0ba'}, ...   \n",
       "2  {'$id': {'$oid': '601ac142be37ce2ead437559'}, ...   \n",
       "\n",
       "                        name  topBrand                      brandCode  \n",
       "0  test brand @1612366101024       0.0                            NaN  \n",
       "1                  Starbucks       0.0                      STARBUCKS  \n",
       "2  test brand @1612366146176       0.0  TEST BRANDCODE @1612366146176  "
      ]
     },
     "execution_count": 12,
     "metadata": {},
     "output_type": "execute_result"
    }
   ],
   "source": [
    "brands.head(3)"
   ]
  },
  {
   "cell_type": "markdown",
   "id": "247ac5cf",
   "metadata": {},
   "source": [
    "Check for duplicate IDs."
   ]
  },
  {
   "cell_type": "code",
   "execution_count": 13,
   "id": "5aaf93a2",
   "metadata": {},
   "outputs": [
    {
     "data": {
      "text/plain": [
       "0"
      ]
     },
     "execution_count": 13,
     "metadata": {},
     "output_type": "execute_result"
    }
   ],
   "source": [
    "brands['_id'].duplicated().sum()"
   ]
  },
  {
   "cell_type": "markdown",
   "id": "30a87a4a",
   "metadata": {},
   "source": [
    "There are no duplicates. However there are nested fields. Lets fix those and the table will be ready."
   ]
  },
  {
   "cell_type": "code",
   "execution_count": 14,
   "id": "16ce3a44",
   "metadata": {},
   "outputs": [],
   "source": [
    "brands_table = brands.copy()"
   ]
  },
  {
   "cell_type": "code",
   "execution_count": 15,
   "id": "a44caf73",
   "metadata": {},
   "outputs": [],
   "source": [
    "brands_table['_id'] = brands_table['_id'].apply(lambda x: x['$oid'])"
   ]
  },
  {
   "cell_type": "code",
   "execution_count": 16,
   "id": "8d6a55f1",
   "metadata": {},
   "outputs": [],
   "source": [
    "brands_table['cpg'] = brands_table['cpg'].apply(lambda x: x['$id']['$oid'])"
   ]
  },
  {
   "cell_type": "code",
   "execution_count": 17,
   "id": "17d1a291",
   "metadata": {},
   "outputs": [
    {
     "data": {
      "text/html": [
       "<div>\n",
       "<style scoped>\n",
       "    .dataframe tbody tr th:only-of-type {\n",
       "        vertical-align: middle;\n",
       "    }\n",
       "\n",
       "    .dataframe tbody tr th {\n",
       "        vertical-align: top;\n",
       "    }\n",
       "\n",
       "    .dataframe thead th {\n",
       "        text-align: right;\n",
       "    }\n",
       "</style>\n",
       "<table border=\"1\" class=\"dataframe\">\n",
       "  <thead>\n",
       "    <tr style=\"text-align: right;\">\n",
       "      <th></th>\n",
       "      <th>_id</th>\n",
       "      <th>barcode</th>\n",
       "      <th>category</th>\n",
       "      <th>categoryCode</th>\n",
       "      <th>cpg</th>\n",
       "      <th>name</th>\n",
       "      <th>topBrand</th>\n",
       "      <th>brandCode</th>\n",
       "    </tr>\n",
       "  </thead>\n",
       "  <tbody>\n",
       "    <tr>\n",
       "      <th>0</th>\n",
       "      <td>601ac115be37ce2ead437551</td>\n",
       "      <td>511111019862</td>\n",
       "      <td>Baking</td>\n",
       "      <td>BAKING</td>\n",
       "      <td>601ac114be37ce2ead437550</td>\n",
       "      <td>test brand @1612366101024</td>\n",
       "      <td>0.0</td>\n",
       "      <td>NaN</td>\n",
       "    </tr>\n",
       "    <tr>\n",
       "      <th>1</th>\n",
       "      <td>601c5460be37ce2ead43755f</td>\n",
       "      <td>511111519928</td>\n",
       "      <td>Beverages</td>\n",
       "      <td>BEVERAGES</td>\n",
       "      <td>5332f5fbe4b03c9a25efd0ba</td>\n",
       "      <td>Starbucks</td>\n",
       "      <td>0.0</td>\n",
       "      <td>STARBUCKS</td>\n",
       "    </tr>\n",
       "    <tr>\n",
       "      <th>2</th>\n",
       "      <td>601ac142be37ce2ead43755d</td>\n",
       "      <td>511111819905</td>\n",
       "      <td>Baking</td>\n",
       "      <td>BAKING</td>\n",
       "      <td>601ac142be37ce2ead437559</td>\n",
       "      <td>test brand @1612366146176</td>\n",
       "      <td>0.0</td>\n",
       "      <td>TEST BRANDCODE @1612366146176</td>\n",
       "    </tr>\n",
       "  </tbody>\n",
       "</table>\n",
       "</div>"
      ],
      "text/plain": [
       "                        _id       barcode   category categoryCode  \\\n",
       "0  601ac115be37ce2ead437551  511111019862     Baking       BAKING   \n",
       "1  601c5460be37ce2ead43755f  511111519928  Beverages    BEVERAGES   \n",
       "2  601ac142be37ce2ead43755d  511111819905     Baking       BAKING   \n",
       "\n",
       "                        cpg                       name  topBrand  \\\n",
       "0  601ac114be37ce2ead437550  test brand @1612366101024       0.0   \n",
       "1  5332f5fbe4b03c9a25efd0ba                  Starbucks       0.0   \n",
       "2  601ac142be37ce2ead437559  test brand @1612366146176       0.0   \n",
       "\n",
       "                       brandCode  \n",
       "0                            NaN  \n",
       "1                      STARBUCKS  \n",
       "2  TEST BRANDCODE @1612366146176  "
      ]
     },
     "execution_count": 17,
     "metadata": {},
     "output_type": "execute_result"
    }
   ],
   "source": [
    "brands_table.head(3)"
   ]
  },
  {
   "cell_type": "markdown",
   "id": "b8cb46cb",
   "metadata": {},
   "source": [
    "# Receipts"
   ]
  },
  {
   "cell_type": "code",
   "execution_count": 18,
   "id": "605a4682",
   "metadata": {},
   "outputs": [
    {
     "data": {
      "text/html": [
       "<div>\n",
       "<style scoped>\n",
       "    .dataframe tbody tr th:only-of-type {\n",
       "        vertical-align: middle;\n",
       "    }\n",
       "\n",
       "    .dataframe tbody tr th {\n",
       "        vertical-align: top;\n",
       "    }\n",
       "\n",
       "    .dataframe thead th {\n",
       "        text-align: right;\n",
       "    }\n",
       "</style>\n",
       "<table border=\"1\" class=\"dataframe\">\n",
       "  <thead>\n",
       "    <tr style=\"text-align: right;\">\n",
       "      <th></th>\n",
       "      <th>_id</th>\n",
       "      <th>bonusPointsEarned</th>\n",
       "      <th>bonusPointsEarnedReason</th>\n",
       "      <th>createDate</th>\n",
       "      <th>dateScanned</th>\n",
       "      <th>finishedDate</th>\n",
       "      <th>modifyDate</th>\n",
       "      <th>pointsAwardedDate</th>\n",
       "      <th>pointsEarned</th>\n",
       "      <th>purchaseDate</th>\n",
       "      <th>purchasedItemCount</th>\n",
       "      <th>rewardsReceiptItemList</th>\n",
       "      <th>rewardsReceiptStatus</th>\n",
       "      <th>totalSpent</th>\n",
       "      <th>userId</th>\n",
       "    </tr>\n",
       "  </thead>\n",
       "  <tbody>\n",
       "    <tr>\n",
       "      <th>0</th>\n",
       "      <td>{'$oid': '5ff1e1eb0a720f0523000575'}</td>\n",
       "      <td>500.0</td>\n",
       "      <td>Receipt number 2 completed, bonus point schedu...</td>\n",
       "      <td>{'$date': 1609687531000}</td>\n",
       "      <td>{'$date': 1609687531000}</td>\n",
       "      <td>{'$date': 1609687531000}</td>\n",
       "      <td>{'$date': 1609687536000}</td>\n",
       "      <td>{'$date': 1609687531000}</td>\n",
       "      <td>500.0</td>\n",
       "      <td>{'$date': 1609632000000}</td>\n",
       "      <td>5.0</td>\n",
       "      <td>[{'barcode': '4011', 'description': 'ITEM NOT ...</td>\n",
       "      <td>FINISHED</td>\n",
       "      <td>26.0</td>\n",
       "      <td>5ff1e1eacfcf6c399c274ae6</td>\n",
       "    </tr>\n",
       "    <tr>\n",
       "      <th>1</th>\n",
       "      <td>{'$oid': '5ff1e1bb0a720f052300056b'}</td>\n",
       "      <td>150.0</td>\n",
       "      <td>Receipt number 5 completed, bonus point schedu...</td>\n",
       "      <td>{'$date': 1609687483000}</td>\n",
       "      <td>{'$date': 1609687483000}</td>\n",
       "      <td>{'$date': 1609687483000}</td>\n",
       "      <td>{'$date': 1609687488000}</td>\n",
       "      <td>{'$date': 1609687483000}</td>\n",
       "      <td>150.0</td>\n",
       "      <td>{'$date': 1609601083000}</td>\n",
       "      <td>2.0</td>\n",
       "      <td>[{'barcode': '4011', 'description': 'ITEM NOT ...</td>\n",
       "      <td>FINISHED</td>\n",
       "      <td>11.0</td>\n",
       "      <td>5ff1e194b6a9d73a3a9f1052</td>\n",
       "    </tr>\n",
       "    <tr>\n",
       "      <th>2</th>\n",
       "      <td>{'$oid': '5ff1e1f10a720f052300057a'}</td>\n",
       "      <td>5.0</td>\n",
       "      <td>All-receipts receipt bonus</td>\n",
       "      <td>{'$date': 1609687537000}</td>\n",
       "      <td>{'$date': 1609687537000}</td>\n",
       "      <td>NaN</td>\n",
       "      <td>{'$date': 1609687542000}</td>\n",
       "      <td>NaN</td>\n",
       "      <td>5.0</td>\n",
       "      <td>{'$date': 1609632000000}</td>\n",
       "      <td>1.0</td>\n",
       "      <td>[{'needsFetchReview': False, 'partnerItemId': ...</td>\n",
       "      <td>REJECTED</td>\n",
       "      <td>10.0</td>\n",
       "      <td>5ff1e1f1cfcf6c399c274b0b</td>\n",
       "    </tr>\n",
       "  </tbody>\n",
       "</table>\n",
       "</div>"
      ],
      "text/plain": [
       "                                    _id  bonusPointsEarned  \\\n",
       "0  {'$oid': '5ff1e1eb0a720f0523000575'}              500.0   \n",
       "1  {'$oid': '5ff1e1bb0a720f052300056b'}              150.0   \n",
       "2  {'$oid': '5ff1e1f10a720f052300057a'}                5.0   \n",
       "\n",
       "                             bonusPointsEarnedReason  \\\n",
       "0  Receipt number 2 completed, bonus point schedu...   \n",
       "1  Receipt number 5 completed, bonus point schedu...   \n",
       "2                         All-receipts receipt bonus   \n",
       "\n",
       "                 createDate               dateScanned  \\\n",
       "0  {'$date': 1609687531000}  {'$date': 1609687531000}   \n",
       "1  {'$date': 1609687483000}  {'$date': 1609687483000}   \n",
       "2  {'$date': 1609687537000}  {'$date': 1609687537000}   \n",
       "\n",
       "               finishedDate                modifyDate  \\\n",
       "0  {'$date': 1609687531000}  {'$date': 1609687536000}   \n",
       "1  {'$date': 1609687483000}  {'$date': 1609687488000}   \n",
       "2                       NaN  {'$date': 1609687542000}   \n",
       "\n",
       "          pointsAwardedDate  pointsEarned              purchaseDate  \\\n",
       "0  {'$date': 1609687531000}         500.0  {'$date': 1609632000000}   \n",
       "1  {'$date': 1609687483000}         150.0  {'$date': 1609601083000}   \n",
       "2                       NaN           5.0  {'$date': 1609632000000}   \n",
       "\n",
       "   purchasedItemCount                             rewardsReceiptItemList  \\\n",
       "0                 5.0  [{'barcode': '4011', 'description': 'ITEM NOT ...   \n",
       "1                 2.0  [{'barcode': '4011', 'description': 'ITEM NOT ...   \n",
       "2                 1.0  [{'needsFetchReview': False, 'partnerItemId': ...   \n",
       "\n",
       "  rewardsReceiptStatus  totalSpent                    userId  \n",
       "0             FINISHED        26.0  5ff1e1eacfcf6c399c274ae6  \n",
       "1             FINISHED        11.0  5ff1e194b6a9d73a3a9f1052  \n",
       "2             REJECTED        10.0  5ff1e1f1cfcf6c399c274b0b  "
      ]
     },
     "execution_count": 18,
     "metadata": {},
     "output_type": "execute_result"
    }
   ],
   "source": [
    "receipts.head(3)"
   ]
  },
  {
   "cell_type": "code",
   "execution_count": 19,
   "id": "fbd488c1",
   "metadata": {},
   "outputs": [
    {
     "data": {
      "text/plain": [
       "0"
      ]
     },
     "execution_count": 19,
     "metadata": {},
     "output_type": "execute_result"
    }
   ],
   "source": [
    "receipts['_id'].duplicated().sum()"
   ]
  },
  {
   "cell_type": "markdown",
   "id": "c4fa808e",
   "metadata": {},
   "source": [
    "There are no duplicates. Lots of fields to clean up though. Also, note that rewardsReceiptItemList follows a new pattern. We'll revisit that one."
   ]
  },
  {
   "cell_type": "code",
   "execution_count": 20,
   "id": "833b3078",
   "metadata": {},
   "outputs": [],
   "source": [
    "receipts_table = receipts.copy()"
   ]
  },
  {
   "cell_type": "code",
   "execution_count": 21,
   "id": "d7efdb9a",
   "metadata": {},
   "outputs": [],
   "source": [
    "receipts_table['_id'] = receipts_table['_id'].apply(lambda x: x['$oid'])"
   ]
  },
  {
   "cell_type": "code",
   "execution_count": 22,
   "id": "74b79085",
   "metadata": {},
   "outputs": [],
   "source": [
    "date_columns = ['createDate','dateScanned', 'finishedDate', 'modifyDate', 'pointsAwardedDate', 'purchaseDate']\n",
    "\n",
    "for col in date_columns:\n",
    "    receipts_table[col] = receipts_table[col].apply(extract_date)"
   ]
  },
  {
   "cell_type": "code",
   "execution_count": 23,
   "id": "29efee4b",
   "metadata": {},
   "outputs": [
    {
     "data": {
      "text/html": [
       "<div>\n",
       "<style scoped>\n",
       "    .dataframe tbody tr th:only-of-type {\n",
       "        vertical-align: middle;\n",
       "    }\n",
       "\n",
       "    .dataframe tbody tr th {\n",
       "        vertical-align: top;\n",
       "    }\n",
       "\n",
       "    .dataframe thead th {\n",
       "        text-align: right;\n",
       "    }\n",
       "</style>\n",
       "<table border=\"1\" class=\"dataframe\">\n",
       "  <thead>\n",
       "    <tr style=\"text-align: right;\">\n",
       "      <th></th>\n",
       "      <th>_id</th>\n",
       "      <th>bonusPointsEarned</th>\n",
       "      <th>bonusPointsEarnedReason</th>\n",
       "      <th>createDate</th>\n",
       "      <th>dateScanned</th>\n",
       "      <th>finishedDate</th>\n",
       "      <th>modifyDate</th>\n",
       "      <th>pointsAwardedDate</th>\n",
       "      <th>pointsEarned</th>\n",
       "      <th>purchaseDate</th>\n",
       "      <th>purchasedItemCount</th>\n",
       "      <th>rewardsReceiptItemList</th>\n",
       "      <th>rewardsReceiptStatus</th>\n",
       "      <th>totalSpent</th>\n",
       "      <th>userId</th>\n",
       "    </tr>\n",
       "  </thead>\n",
       "  <tbody>\n",
       "    <tr>\n",
       "      <th>0</th>\n",
       "      <td>5ff1e1eb0a720f0523000575</td>\n",
       "      <td>500.0</td>\n",
       "      <td>Receipt number 2 completed, bonus point schedu...</td>\n",
       "      <td>2021-01-03</td>\n",
       "      <td>2021-01-03</td>\n",
       "      <td>2021-01-03</td>\n",
       "      <td>2021-01-03</td>\n",
       "      <td>2021-01-03</td>\n",
       "      <td>500.0</td>\n",
       "      <td>2021-01-03</td>\n",
       "      <td>5.0</td>\n",
       "      <td>[{'barcode': '4011', 'description': 'ITEM NOT ...</td>\n",
       "      <td>FINISHED</td>\n",
       "      <td>26.0</td>\n",
       "      <td>5ff1e1eacfcf6c399c274ae6</td>\n",
       "    </tr>\n",
       "    <tr>\n",
       "      <th>1</th>\n",
       "      <td>5ff1e1bb0a720f052300056b</td>\n",
       "      <td>150.0</td>\n",
       "      <td>Receipt number 5 completed, bonus point schedu...</td>\n",
       "      <td>2021-01-03</td>\n",
       "      <td>2021-01-03</td>\n",
       "      <td>2021-01-03</td>\n",
       "      <td>2021-01-03</td>\n",
       "      <td>2021-01-03</td>\n",
       "      <td>150.0</td>\n",
       "      <td>2021-01-02</td>\n",
       "      <td>2.0</td>\n",
       "      <td>[{'barcode': '4011', 'description': 'ITEM NOT ...</td>\n",
       "      <td>FINISHED</td>\n",
       "      <td>11.0</td>\n",
       "      <td>5ff1e194b6a9d73a3a9f1052</td>\n",
       "    </tr>\n",
       "  </tbody>\n",
       "</table>\n",
       "</div>"
      ],
      "text/plain": [
       "                        _id  bonusPointsEarned  \\\n",
       "0  5ff1e1eb0a720f0523000575              500.0   \n",
       "1  5ff1e1bb0a720f052300056b              150.0   \n",
       "\n",
       "                             bonusPointsEarnedReason  createDate dateScanned  \\\n",
       "0  Receipt number 2 completed, bonus point schedu...  2021-01-03  2021-01-03   \n",
       "1  Receipt number 5 completed, bonus point schedu...  2021-01-03  2021-01-03   \n",
       "\n",
       "  finishedDate  modifyDate pointsAwardedDate  pointsEarned purchaseDate  \\\n",
       "0   2021-01-03  2021-01-03        2021-01-03         500.0   2021-01-03   \n",
       "1   2021-01-03  2021-01-03        2021-01-03         150.0   2021-01-02   \n",
       "\n",
       "   purchasedItemCount                             rewardsReceiptItemList  \\\n",
       "0                 5.0  [{'barcode': '4011', 'description': 'ITEM NOT ...   \n",
       "1                 2.0  [{'barcode': '4011', 'description': 'ITEM NOT ...   \n",
       "\n",
       "  rewardsReceiptStatus  totalSpent                    userId  \n",
       "0             FINISHED        26.0  5ff1e1eacfcf6c399c274ae6  \n",
       "1             FINISHED        11.0  5ff1e194b6a9d73a3a9f1052  "
      ]
     },
     "execution_count": 23,
     "metadata": {},
     "output_type": "execute_result"
    }
   ],
   "source": [
    "receipts_table.head(2)"
   ]
  },
  {
   "cell_type": "code",
   "execution_count": 53,
   "id": "d928eb35",
   "metadata": {},
   "outputs": [
    {
     "data": {
      "text/plain": [
       "(1119, 15)"
      ]
     },
     "execution_count": 53,
     "metadata": {},
     "output_type": "execute_result"
    }
   ],
   "source": [
    "receipts_table.shape"
   ]
  },
  {
   "cell_type": "markdown",
   "id": "c93d21b2",
   "metadata": {},
   "source": [
    "## A Look at rewardsReceiptItemList \n",
    "\n",
    "This column immidiately stands out becuase it contains multiple items/values. Despite this just seeming off to me, I did some reading and Youtubing and found that this property violates First Normal Form: you cant have repeating groups, you want one value per cell.\n",
    "\n",
    "Also, with the data in this format it would be very difficult to answer queries down the road such has: rank the top 10 items by purchase count. I think we should turn this column into its own table."
   ]
  },
  {
   "cell_type": "code",
   "execution_count": 25,
   "id": "2ca93f4c",
   "metadata": {},
   "outputs": [
    {
     "data": {
      "text/plain": [
       "[{'barcode': '4011',\n",
       "  'description': 'ITEM NOT FOUND',\n",
       "  'finalPrice': '26.00',\n",
       "  'itemPrice': '26.00',\n",
       "  'needsFetchReview': False,\n",
       "  'partnerItemId': '1',\n",
       "  'preventTargetGapPoints': True,\n",
       "  'quantityPurchased': 5,\n",
       "  'userFlaggedBarcode': '4011',\n",
       "  'userFlaggedNewItem': True,\n",
       "  'userFlaggedPrice': '26.00',\n",
       "  'userFlaggedQuantity': 5}]"
      ]
     },
     "execution_count": 25,
     "metadata": {},
     "output_type": "execute_result"
    }
   ],
   "source": [
    "receipts_table['rewardsReceiptItemList'].iloc[0]"
   ]
  },
  {
   "cell_type": "code",
   "execution_count": 26,
   "id": "353583ca",
   "metadata": {},
   "outputs": [
    {
     "data": {
      "text/plain": [
       "[{'barcode': '034100573065',\n",
       "  'description': 'MILLER LITE 24 PACK 12OZ CAN',\n",
       "  'finalPrice': '29',\n",
       "  'itemPrice': '29',\n",
       "  'partnerItemId': '1',\n",
       "  'pointsEarned': '870.0',\n",
       "  'pointsPayerId': '5332f709e4b03c9a25efd0f1',\n",
       "  'quantityPurchased': 1,\n",
       "  'rewardsGroup': 'MILLER LITE 24 PACK',\n",
       "  'rewardsProductPartnerId': '5332f709e4b03c9a25efd0f1',\n",
       "  'targetPrice': '77'},\n",
       " {'barcode': '034100573065',\n",
       "  'description': 'MILLER LITE 24 PACK 12OZ CAN',\n",
       "  'finalPrice': '29',\n",
       "  'itemPrice': '29',\n",
       "  'partnerItemId': '2',\n",
       "  'pointsEarned': '870.0',\n",
       "  'pointsPayerId': '5332f709e4b03c9a25efd0f1',\n",
       "  'quantityPurchased': 1,\n",
       "  'rewardsGroup': 'MILLER LITE 24 PACK',\n",
       "  'rewardsProductPartnerId': '5332f709e4b03c9a25efd0f1',\n",
       "  'targetPrice': '77'},\n",
       " {'barcode': '034100573065',\n",
       "  'description': 'MILLER LITE 24 PACK 12OZ CAN',\n",
       "  'finalPrice': '29',\n",
       "  'itemPrice': '29',\n",
       "  'partnerItemId': '3',\n",
       "  'pointsEarned': '870.0',\n",
       "  'pointsPayerId': '5332f709e4b03c9a25efd0f1',\n",
       "  'quantityPurchased': 1,\n",
       "  'rewardsGroup': 'MILLER LITE 24 PACK',\n",
       "  'rewardsProductPartnerId': '5332f709e4b03c9a25efd0f1',\n",
       "  'targetPrice': '77'},\n",
       " {'barcode': '034100573065',\n",
       "  'description': 'MILLER LITE 24 PACK 12OZ CAN',\n",
       "  'finalPrice': '29',\n",
       "  'itemPrice': '29',\n",
       "  'partnerItemId': '4',\n",
       "  'pointsEarned': '870.0',\n",
       "  'pointsPayerId': '5332f709e4b03c9a25efd0f1',\n",
       "  'quantityPurchased': 1,\n",
       "  'rewardsGroup': 'MILLER LITE 24 PACK',\n",
       "  'rewardsProductPartnerId': '5332f709e4b03c9a25efd0f1',\n",
       "  'targetPrice': '77'},\n",
       " {'barcode': '034100573065',\n",
       "  'description': 'MILLER LITE 24 PACK 12OZ CAN',\n",
       "  'finalPrice': '29',\n",
       "  'itemPrice': '29',\n",
       "  'partnerItemId': '5',\n",
       "  'pointsEarned': '870.0',\n",
       "  'pointsPayerId': '5332f709e4b03c9a25efd0f1',\n",
       "  'quantityPurchased': 1,\n",
       "  'rewardsGroup': 'MILLER LITE 24 PACK',\n",
       "  'rewardsProductPartnerId': '5332f709e4b03c9a25efd0f1',\n",
       "  'targetPrice': '77'},\n",
       " {'barcode': '034100573065',\n",
       "  'description': 'MILLER LITE 24 PACK 12OZ CAN',\n",
       "  'finalPrice': '29',\n",
       "  'itemPrice': '29',\n",
       "  'partnerItemId': '6',\n",
       "  'pointsEarned': '870.0',\n",
       "  'pointsPayerId': '5332f709e4b03c9a25efd0f1',\n",
       "  'quantityPurchased': 1,\n",
       "  'rewardsGroup': 'MILLER LITE 24 PACK',\n",
       "  'rewardsProductPartnerId': '5332f709e4b03c9a25efd0f1',\n",
       "  'targetPrice': '77'},\n",
       " {'barcode': '034100573065',\n",
       "  'description': 'MILLER LITE 24 PACK 12OZ CAN',\n",
       "  'finalPrice': '29',\n",
       "  'itemPrice': '29',\n",
       "  'partnerItemId': '7',\n",
       "  'pointsEarned': '870.0',\n",
       "  'pointsPayerId': '5332f709e4b03c9a25efd0f1',\n",
       "  'quantityPurchased': 1,\n",
       "  'rewardsGroup': 'MILLER LITE 24 PACK',\n",
       "  'rewardsProductPartnerId': '5332f709e4b03c9a25efd0f1',\n",
       "  'targetPrice': '77'},\n",
       " {'barcode': '034100573065',\n",
       "  'description': 'MILLER LITE 24 PACK 12OZ CAN',\n",
       "  'finalPrice': '29',\n",
       "  'itemPrice': '29',\n",
       "  'partnerItemId': '8',\n",
       "  'pointsEarned': '870.0',\n",
       "  'pointsPayerId': '5332f709e4b03c9a25efd0f1',\n",
       "  'quantityPurchased': 1,\n",
       "  'rewardsGroup': 'MILLER LITE 24 PACK',\n",
       "  'rewardsProductPartnerId': '5332f709e4b03c9a25efd0f1',\n",
       "  'targetPrice': '77'},\n",
       " {'barcode': '034100573065',\n",
       "  'description': 'MILLER LITE 24 PACK 12OZ CAN',\n",
       "  'finalPrice': '29',\n",
       "  'itemPrice': '29',\n",
       "  'partnerItemId': '9',\n",
       "  'pointsEarned': '870.0',\n",
       "  'pointsPayerId': '5332f709e4b03c9a25efd0f1',\n",
       "  'quantityPurchased': 1,\n",
       "  'rewardsGroup': 'MILLER LITE 24 PACK',\n",
       "  'rewardsProductPartnerId': '5332f709e4b03c9a25efd0f1',\n",
       "  'targetPrice': '77'},\n",
       " {'barcode': '034100573065',\n",
       "  'description': 'MILLER LITE 24 PACK 12OZ CAN',\n",
       "  'finalPrice': '29',\n",
       "  'itemPrice': '29',\n",
       "  'partnerItemId': '10',\n",
       "  'pointsEarned': '870.0',\n",
       "  'pointsPayerId': '5332f709e4b03c9a25efd0f1',\n",
       "  'quantityPurchased': 1,\n",
       "  'rewardsGroup': 'MILLER LITE 24 PACK',\n",
       "  'rewardsProductPartnerId': '5332f709e4b03c9a25efd0f1',\n",
       "  'targetPrice': '77'}]"
      ]
     },
     "execution_count": 26,
     "metadata": {},
     "output_type": "execute_result"
    }
   ],
   "source": [
    "receipts_table['rewardsReceiptItemList'].iloc[12]"
   ]
  },
  {
   "cell_type": "markdown",
   "id": "06c06550",
   "metadata": {},
   "source": [
    "Wowser. So this field contains lists of lists where one list consitutes an item on the reciept. We can use 2 handy functions here:\n",
    "- explode() to put each list on its own row\n",
    "- json_normalize to make each value in the list its own column\n",
    "\n",
    "This is how we will make this thing its own table."
   ]
  },
  {
   "cell_type": "code",
   "execution_count": 47,
   "id": "79159771",
   "metadata": {},
   "outputs": [],
   "source": [
    "receipt_items = receipts_table[['_id', 'rewardsReceiptItemList']].explode('rewardsReceiptItemList').reset_index(drop=True)"
   ]
  },
  {
   "cell_type": "code",
   "execution_count": 48,
   "id": "f8f9ef49",
   "metadata": {},
   "outputs": [
    {
     "data": {
      "text/plain": [
       "(7381, 2)"
      ]
     },
     "execution_count": 48,
     "metadata": {},
     "output_type": "execute_result"
    }
   ],
   "source": [
    "receipt_items.shape"
   ]
  },
  {
   "cell_type": "code",
   "execution_count": 49,
   "id": "53dcfc36",
   "metadata": {},
   "outputs": [
    {
     "data": {
      "text/html": [
       "<div>\n",
       "<style scoped>\n",
       "    .dataframe tbody tr th:only-of-type {\n",
       "        vertical-align: middle;\n",
       "    }\n",
       "\n",
       "    .dataframe tbody tr th {\n",
       "        vertical-align: top;\n",
       "    }\n",
       "\n",
       "    .dataframe thead th {\n",
       "        text-align: right;\n",
       "    }\n",
       "</style>\n",
       "<table border=\"1\" class=\"dataframe\">\n",
       "  <thead>\n",
       "    <tr style=\"text-align: right;\">\n",
       "      <th></th>\n",
       "      <th>_id</th>\n",
       "      <th>rewardsReceiptItemList</th>\n",
       "    </tr>\n",
       "  </thead>\n",
       "  <tbody>\n",
       "    <tr>\n",
       "      <th>0</th>\n",
       "      <td>5ff1e1eb0a720f0523000575</td>\n",
       "      <td>{'barcode': '4011', 'description': 'ITEM NOT F...</td>\n",
       "    </tr>\n",
       "    <tr>\n",
       "      <th>1</th>\n",
       "      <td>5ff1e1bb0a720f052300056b</td>\n",
       "      <td>{'barcode': '4011', 'description': 'ITEM NOT F...</td>\n",
       "    </tr>\n",
       "  </tbody>\n",
       "</table>\n",
       "</div>"
      ],
      "text/plain": [
       "                        _id                             rewardsReceiptItemList\n",
       "0  5ff1e1eb0a720f0523000575  {'barcode': '4011', 'description': 'ITEM NOT F...\n",
       "1  5ff1e1bb0a720f052300056b  {'barcode': '4011', 'description': 'ITEM NOT F..."
      ]
     },
     "execution_count": 49,
     "metadata": {},
     "output_type": "execute_result"
    }
   ],
   "source": [
    "receipt_items.head(2)"
   ]
  },
  {
   "cell_type": "code",
   "execution_count": 50,
   "id": "05bde889",
   "metadata": {},
   "outputs": [],
   "source": [
    "receipt_items_table = pd.concat([\n",
    "    receipt_items['_id'].rename('receipt_id'),\n",
    "    pd.json_normalize(receipt_items['rewardsReceiptItemList'])\n",
    "], axis=1)"
   ]
  },
  {
   "cell_type": "code",
   "execution_count": 51,
   "id": "8daa3758",
   "metadata": {},
   "outputs": [
    {
     "data": {
      "text/html": [
       "<div>\n",
       "<style scoped>\n",
       "    .dataframe tbody tr th:only-of-type {\n",
       "        vertical-align: middle;\n",
       "    }\n",
       "\n",
       "    .dataframe tbody tr th {\n",
       "        vertical-align: top;\n",
       "    }\n",
       "\n",
       "    .dataframe thead th {\n",
       "        text-align: right;\n",
       "    }\n",
       "</style>\n",
       "<table border=\"1\" class=\"dataframe\">\n",
       "  <thead>\n",
       "    <tr style=\"text-align: right;\">\n",
       "      <th></th>\n",
       "      <th>receipt_id</th>\n",
       "      <th>barcode</th>\n",
       "      <th>description</th>\n",
       "      <th>finalPrice</th>\n",
       "      <th>itemPrice</th>\n",
       "      <th>needsFetchReview</th>\n",
       "      <th>partnerItemId</th>\n",
       "      <th>preventTargetGapPoints</th>\n",
       "      <th>quantityPurchased</th>\n",
       "      <th>userFlaggedBarcode</th>\n",
       "      <th>...</th>\n",
       "      <th>itemNumber</th>\n",
       "      <th>originalMetaBriteQuantityPurchased</th>\n",
       "      <th>pointsEarned</th>\n",
       "      <th>targetPrice</th>\n",
       "      <th>competitiveProduct</th>\n",
       "      <th>originalFinalPrice</th>\n",
       "      <th>originalMetaBriteItemPrice</th>\n",
       "      <th>deleted</th>\n",
       "      <th>priceAfterCoupon</th>\n",
       "      <th>metabriteCampaignId</th>\n",
       "    </tr>\n",
       "  </thead>\n",
       "  <tbody>\n",
       "    <tr>\n",
       "      <th>0</th>\n",
       "      <td>5ff1e1eb0a720f0523000575</td>\n",
       "      <td>4011</td>\n",
       "      <td>ITEM NOT FOUND</td>\n",
       "      <td>26.00</td>\n",
       "      <td>26.00</td>\n",
       "      <td>False</td>\n",
       "      <td>1</td>\n",
       "      <td>True</td>\n",
       "      <td>5.0</td>\n",
       "      <td>4011</td>\n",
       "      <td>...</td>\n",
       "      <td>NaN</td>\n",
       "      <td>NaN</td>\n",
       "      <td>NaN</td>\n",
       "      <td>NaN</td>\n",
       "      <td>NaN</td>\n",
       "      <td>NaN</td>\n",
       "      <td>NaN</td>\n",
       "      <td>NaN</td>\n",
       "      <td>NaN</td>\n",
       "      <td>NaN</td>\n",
       "    </tr>\n",
       "    <tr>\n",
       "      <th>1</th>\n",
       "      <td>5ff1e1bb0a720f052300056b</td>\n",
       "      <td>4011</td>\n",
       "      <td>ITEM NOT FOUND</td>\n",
       "      <td>1</td>\n",
       "      <td>1</td>\n",
       "      <td>NaN</td>\n",
       "      <td>1</td>\n",
       "      <td>NaN</td>\n",
       "      <td>1.0</td>\n",
       "      <td>NaN</td>\n",
       "      <td>...</td>\n",
       "      <td>NaN</td>\n",
       "      <td>NaN</td>\n",
       "      <td>NaN</td>\n",
       "      <td>NaN</td>\n",
       "      <td>NaN</td>\n",
       "      <td>NaN</td>\n",
       "      <td>NaN</td>\n",
       "      <td>NaN</td>\n",
       "      <td>NaN</td>\n",
       "      <td>NaN</td>\n",
       "    </tr>\n",
       "    <tr>\n",
       "      <th>2</th>\n",
       "      <td>5ff1e1bb0a720f052300056b</td>\n",
       "      <td>028400642255</td>\n",
       "      <td>DORITOS TORTILLA CHIP SPICY SWEET CHILI REDUCE...</td>\n",
       "      <td>10.00</td>\n",
       "      <td>10.00</td>\n",
       "      <td>True</td>\n",
       "      <td>2</td>\n",
       "      <td>True</td>\n",
       "      <td>1.0</td>\n",
       "      <td>028400642255</td>\n",
       "      <td>...</td>\n",
       "      <td>NaN</td>\n",
       "      <td>NaN</td>\n",
       "      <td>NaN</td>\n",
       "      <td>NaN</td>\n",
       "      <td>NaN</td>\n",
       "      <td>NaN</td>\n",
       "      <td>NaN</td>\n",
       "      <td>NaN</td>\n",
       "      <td>NaN</td>\n",
       "      <td>NaN</td>\n",
       "    </tr>\n",
       "  </tbody>\n",
       "</table>\n",
       "<p>3 rows × 35 columns</p>\n",
       "</div>"
      ],
      "text/plain": [
       "                 receipt_id       barcode  \\\n",
       "0  5ff1e1eb0a720f0523000575          4011   \n",
       "1  5ff1e1bb0a720f052300056b          4011   \n",
       "2  5ff1e1bb0a720f052300056b  028400642255   \n",
       "\n",
       "                                         description finalPrice itemPrice  \\\n",
       "0                                     ITEM NOT FOUND      26.00     26.00   \n",
       "1                                     ITEM NOT FOUND          1         1   \n",
       "2  DORITOS TORTILLA CHIP SPICY SWEET CHILI REDUCE...      10.00     10.00   \n",
       "\n",
       "  needsFetchReview partnerItemId preventTargetGapPoints  quantityPurchased  \\\n",
       "0            False             1                   True                5.0   \n",
       "1              NaN             1                    NaN                1.0   \n",
       "2             True             2                   True                1.0   \n",
       "\n",
       "  userFlaggedBarcode  ... itemNumber originalMetaBriteQuantityPurchased  \\\n",
       "0               4011  ...        NaN                                NaN   \n",
       "1                NaN  ...        NaN                                NaN   \n",
       "2       028400642255  ...        NaN                                NaN   \n",
       "\n",
       "   pointsEarned targetPrice competitiveProduct originalFinalPrice  \\\n",
       "0           NaN         NaN                NaN                NaN   \n",
       "1           NaN         NaN                NaN                NaN   \n",
       "2           NaN         NaN                NaN                NaN   \n",
       "\n",
       "  originalMetaBriteItemPrice deleted priceAfterCoupon metabriteCampaignId  \n",
       "0                        NaN     NaN              NaN                 NaN  \n",
       "1                        NaN     NaN              NaN                 NaN  \n",
       "2                        NaN     NaN              NaN                 NaN  \n",
       "\n",
       "[3 rows x 35 columns]"
      ]
     },
     "execution_count": 51,
     "metadata": {},
     "output_type": "execute_result"
    }
   ],
   "source": [
    "receipt_items_table.head(3)"
   ]
  },
  {
   "cell_type": "code",
   "execution_count": 52,
   "id": "cb42b5f0",
   "metadata": {},
   "outputs": [],
   "source": [
    "# Give the table a primary key\n",
    "receipt_item_table = receipt_items_table.reset_index().rename(columns={'index': '_id'})"
   ]
  },
  {
   "cell_type": "markdown",
   "id": "01947004",
   "metadata": {},
   "source": [
    "I suspect that quite a few columns could be dropped from this table but to be honest, Im not sure how to methodically determine which of the 35 should go. I will keep them in here for now and if the time ever comes would love to dicuss this."
   ]
  },
  {
   "cell_type": "code",
   "execution_count": 56,
   "id": "efb638b1",
   "metadata": {},
   "outputs": [
    {
     "data": {
      "text/html": [
       "<div>\n",
       "<style scoped>\n",
       "    .dataframe tbody tr th:only-of-type {\n",
       "        vertical-align: middle;\n",
       "    }\n",
       "\n",
       "    .dataframe tbody tr th {\n",
       "        vertical-align: top;\n",
       "    }\n",
       "\n",
       "    .dataframe thead th {\n",
       "        text-align: right;\n",
       "    }\n",
       "</style>\n",
       "<table border=\"1\" class=\"dataframe\">\n",
       "  <thead>\n",
       "    <tr style=\"text-align: right;\">\n",
       "      <th></th>\n",
       "      <th>_id</th>\n",
       "      <th>receipt_id</th>\n",
       "      <th>barcode</th>\n",
       "      <th>description</th>\n",
       "      <th>finalPrice</th>\n",
       "      <th>itemPrice</th>\n",
       "      <th>needsFetchReview</th>\n",
       "      <th>partnerItemId</th>\n",
       "      <th>preventTargetGapPoints</th>\n",
       "      <th>quantityPurchased</th>\n",
       "      <th>...</th>\n",
       "      <th>itemNumber</th>\n",
       "      <th>originalMetaBriteQuantityPurchased</th>\n",
       "      <th>pointsEarned</th>\n",
       "      <th>targetPrice</th>\n",
       "      <th>competitiveProduct</th>\n",
       "      <th>originalFinalPrice</th>\n",
       "      <th>originalMetaBriteItemPrice</th>\n",
       "      <th>deleted</th>\n",
       "      <th>priceAfterCoupon</th>\n",
       "      <th>metabriteCampaignId</th>\n",
       "    </tr>\n",
       "  </thead>\n",
       "  <tbody>\n",
       "    <tr>\n",
       "      <th>0</th>\n",
       "      <td>0</td>\n",
       "      <td>5ff1e1eb0a720f0523000575</td>\n",
       "      <td>4011</td>\n",
       "      <td>ITEM NOT FOUND</td>\n",
       "      <td>26.00</td>\n",
       "      <td>26.00</td>\n",
       "      <td>False</td>\n",
       "      <td>1</td>\n",
       "      <td>True</td>\n",
       "      <td>5.0</td>\n",
       "      <td>...</td>\n",
       "      <td>NaN</td>\n",
       "      <td>NaN</td>\n",
       "      <td>NaN</td>\n",
       "      <td>NaN</td>\n",
       "      <td>NaN</td>\n",
       "      <td>NaN</td>\n",
       "      <td>NaN</td>\n",
       "      <td>NaN</td>\n",
       "      <td>NaN</td>\n",
       "      <td>NaN</td>\n",
       "    </tr>\n",
       "    <tr>\n",
       "      <th>1</th>\n",
       "      <td>1</td>\n",
       "      <td>5ff1e1bb0a720f052300056b</td>\n",
       "      <td>4011</td>\n",
       "      <td>ITEM NOT FOUND</td>\n",
       "      <td>1</td>\n",
       "      <td>1</td>\n",
       "      <td>NaN</td>\n",
       "      <td>1</td>\n",
       "      <td>NaN</td>\n",
       "      <td>1.0</td>\n",
       "      <td>...</td>\n",
       "      <td>NaN</td>\n",
       "      <td>NaN</td>\n",
       "      <td>NaN</td>\n",
       "      <td>NaN</td>\n",
       "      <td>NaN</td>\n",
       "      <td>NaN</td>\n",
       "      <td>NaN</td>\n",
       "      <td>NaN</td>\n",
       "      <td>NaN</td>\n",
       "      <td>NaN</td>\n",
       "    </tr>\n",
       "  </tbody>\n",
       "</table>\n",
       "<p>2 rows × 36 columns</p>\n",
       "</div>"
      ],
      "text/plain": [
       "   _id                receipt_id barcode     description finalPrice itemPrice  \\\n",
       "0    0  5ff1e1eb0a720f0523000575    4011  ITEM NOT FOUND      26.00     26.00   \n",
       "1    1  5ff1e1bb0a720f052300056b    4011  ITEM NOT FOUND          1         1   \n",
       "\n",
       "  needsFetchReview partnerItemId preventTargetGapPoints  quantityPurchased  \\\n",
       "0            False             1                   True                5.0   \n",
       "1              NaN             1                    NaN                1.0   \n",
       "\n",
       "   ... itemNumber originalMetaBriteQuantityPurchased pointsEarned  \\\n",
       "0  ...        NaN                                NaN          NaN   \n",
       "1  ...        NaN                                NaN          NaN   \n",
       "\n",
       "   targetPrice competitiveProduct originalFinalPrice  \\\n",
       "0          NaN                NaN                NaN   \n",
       "1          NaN                NaN                NaN   \n",
       "\n",
       "  originalMetaBriteItemPrice deleted priceAfterCoupon metabriteCampaignId  \n",
       "0                        NaN     NaN              NaN                 NaN  \n",
       "1                        NaN     NaN              NaN                 NaN  \n",
       "\n",
       "[2 rows x 36 columns]"
      ]
     },
     "execution_count": 56,
     "metadata": {},
     "output_type": "execute_result"
    }
   ],
   "source": [
    "receipt_item_table.head(2)"
   ]
  },
  {
   "cell_type": "markdown",
   "id": "5221c133",
   "metadata": {},
   "source": [
    "Lets now drop the rewardsReceiptItemList column from receipts_table and our tables will be good to go."
   ]
  },
  {
   "cell_type": "code",
   "execution_count": 55,
   "id": "27558db7",
   "metadata": {},
   "outputs": [],
   "source": [
    "receipts_table.drop(['rewardsReceiptItemList'],axis=1,inplace=True)"
   ]
  },
  {
   "cell_type": "markdown",
   "id": "7b3345dc",
   "metadata": {},
   "source": [
    "## Data Model\n",
    "\n",
    "**Users Table**\n",
    "- Contains user information\n",
    "- Primary key: user_id\n",
    "\n",
    "**Brands Table**\n",
    "- Contains brand information\n",
    "- Primary key: brand_id\n",
    "\n",
    "**Receipts Table**\n",
    "- Contains receipt-level information\n",
    "- Primary key: receipt_id\n",
    "- Foreign key: user_id (links to Users)\n",
    "\n",
    "**Receipt_Items Table**\n",
    "- Contains unique item information\n",
    "- Primary key: item_id\n",
    "- Foreign keys:\n",
    "    - receipt_id (links to Receipts)\n",
    "    - barcode (links to Brands)\n",
    "\n",
    "**Relationships**\n",
    "- Users can have many Receipts\n",
    "- Receipts can have many Items\n",
    "- Brands can appear in many Items\n",
    "- Each item references one brand and belongs to one Receipt "
   ]
  },
  {
   "cell_type": "markdown",
   "id": "5858f669",
   "metadata": {},
   "source": [
    "We'll export these we can use them later in a SQL enviroment."
   ]
  },
  {
   "cell_type": "code",
   "execution_count": 57,
   "id": "4daaeda5",
   "metadata": {},
   "outputs": [],
   "source": [
    "users_table.to_csv('users_table.csv', index=False)\n",
    "brands_table.to_csv('brands_table.csv', index=False)\n",
    "receipts_table.to_csv('receipts_table.csv', index=False)\n",
    "receipt_item_table.to_csv('receipt_item_table.csv', index=False)"
   ]
  },
  {
   "cell_type": "code",
   "execution_count": null,
   "id": "f8a8afec",
   "metadata": {},
   "outputs": [],
   "source": []
  }
 ],
 "metadata": {
  "kernelspec": {
   "display_name": "fetch-challenge",
   "language": "python",
   "name": "fetch-challenge"
  },
  "language_info": {
   "codemirror_mode": {
    "name": "ipython",
    "version": 3
   },
   "file_extension": ".py",
   "mimetype": "text/x-python",
   "name": "python",
   "nbconvert_exporter": "python",
   "pygments_lexer": "ipython3",
   "version": "3.9.7"
  }
 },
 "nbformat": 4,
 "nbformat_minor": 5
}
