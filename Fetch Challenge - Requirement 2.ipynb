{
 "cells": [
  {
   "cell_type": "markdown",
   "id": "7dcf85ed",
   "metadata": {},
   "source": [
    "# Fetch Challenge - Requirement 2\n",
    "\n",
    "Generate a query that answers a predetermined business question. \n",
    "\n",
    "We will use DuckDB to build a database off of the files we exported from the other notebook."
   ]
  },
  {
   "cell_type": "code",
   "execution_count": 25,
   "id": "5e87e210",
   "metadata": {
    "scrolled": true
   },
   "outputs": [
    {
     "data": {
      "text/html": [
       "<style>.container { width:100% !important; }</style>"
      ],
      "text/plain": [
       "<IPython.core.display.HTML object>"
      ]
     },
     "metadata": {},
     "output_type": "display_data"
    }
   ],
   "source": [
    "import duckdb\n",
    "\n",
    "from IPython.display import display, HTML # Widen the cells \n",
    "display(HTML(\"<style>.container { width:100% !important; }</style>\"))"
   ]
  },
  {
   "cell_type": "code",
   "execution_count": 3,
   "id": "7f409ac7",
   "metadata": {
    "scrolled": true
   },
   "outputs": [],
   "source": [
    "conn = duckdb.connect('Fetch')"
   ]
  },
  {
   "cell_type": "code",
   "execution_count": 28,
   "id": "237f702c",
   "metadata": {},
   "outputs": [
    {
     "data": {
      "text/plain": [
       "┌──────────────────────────┬─────────┬─────────────┬────────────┬──────────┬──────────────┬─────────┐\n",
       "│           _id            │ active  │ createdDate │ lastLogin  │   role   │ signUpSource │  state  │\n",
       "│         varchar          │ boolean │    date     │    date    │ varchar  │   varchar    │ varchar │\n",
       "├──────────────────────────┼─────────┼─────────────┼────────────┼──────────┼──────────────┼─────────┤\n",
       "│ 5ff1e194b6a9d73a3a9f1052 │ true    │ 2021-01-03  │ 2021-01-03 │ consumer │ Email        │ WI      │\n",
       "│ 5ff1e1eacfcf6c399c274ae6 │ true    │ 2021-01-03  │ 2021-01-03 │ consumer │ Email        │ WI      │\n",
       "│ 5ff1e1e8cfcf6c399c274ad9 │ true    │ 2021-01-03  │ 2021-01-03 │ consumer │ Email        │ WI      │\n",
       "└──────────────────────────┴─────────┴─────────────┴────────────┴──────────┴──────────────┴─────────┘"
      ]
     },
     "execution_count": 28,
     "metadata": {},
     "output_type": "execute_result"
    }
   ],
   "source": [
    "# Here is how easily we can read from a csv file\n",
    "conn.sql(\"SELECT * FROM '/Users/wynnephilpott/Documents/Missing_Pauldron/Fetch-Challenge/CSV-Files/users_table.csv' LIMIT 3;\")"
   ]
  },
  {
   "cell_type": "code",
   "execution_count": 11,
   "id": "e3e5def6",
   "metadata": {},
   "outputs": [],
   "source": [
    "# Here is how we create the users table in the Fetch database\n",
    "conn.sql(\"CREATE TABLE users AS\\\n",
    "    SELECT * FROM read_csv('CSV-Files/users_table.csv', AUTO_DETECT=TRUE);\")"
   ]
  },
  {
   "cell_type": "code",
   "execution_count": 21,
   "id": "96f54cd2",
   "metadata": {},
   "outputs": [],
   "source": [
    "# Create brands table in database\n",
    "conn.sql(\"CREATE TABLE brands AS\\\n",
    "    SELECT * FROM read_csv('CSV-Files/brands_table.csv', AUTO_DETECT=TRUE);\")"
   ]
  },
  {
   "cell_type": "code",
   "execution_count": 12,
   "id": "478db61e",
   "metadata": {},
   "outputs": [],
   "source": [
    "# Create receipts table in database\n",
    "conn.sql(\"CREATE TABLE receipts AS\\\n",
    "    SELECT * FROM read_csv('CSV-Files/receipts_table.csv', AUTO_DETECT=TRUE);\")"
   ]
  },
  {
   "cell_type": "code",
   "execution_count": 16,
   "id": "0aff59d4",
   "metadata": {},
   "outputs": [],
   "source": [
    "# Create receipt_items table\n",
    "conn.sql(\"CREATE TABLE receipt_items AS\\\n",
    "    SELECT * FROM read_csv('CSV-Files/receipt_item_table.csv', AUTO_DETECT=TRUE);\")"
   ]
  },
  {
   "cell_type": "markdown",
   "id": "c825dfc1",
   "metadata": {},
   "source": [
    "## Question 1\n",
    "\n",
    "What are the top 5 brands by receipts scanned for most recent month?"
   ]
  },
  {
   "cell_type": "code",
   "execution_count": 22,
   "id": "ce74b432",
   "metadata": {},
   "outputs": [
    {
     "data": {
      "text/plain": [
       "┌─────────┬─────────────────┬───────────────┐\n",
       "│  name   │ number_of_scans │  total_spent  │\n",
       "│ varchar │      int64      │ decimal(38,3) │\n",
       "├───────────────────────────────────────────┤\n",
       "│                  0 rows                   │\n",
       "└───────────────────────────────────────────┘"
      ]
     },
     "execution_count": 22,
     "metadata": {},
     "output_type": "execute_result"
    }
   ],
   "source": [
    "conn.sql(\"\"\"WITH most_recent_month AS (\n",
    "    SELECT DATE_TRUNC('month', MAX(dateScanned)) as month\n",
    "    FROM receipts\n",
    ")\n",
    "SELECT \n",
    "    b.name,\n",
    "    COUNT(DISTINCT r._id) as number_of_scans,\n",
    "    SUM(CAST(ri.finalPrice AS DECIMAL)) as total_spent\n",
    "FROM receipt_items as ri\n",
    "JOIN receipts as r ON ri.receipt_id = r._id\n",
    "JOIN brands as b ON CAST(ri.barcode AS VARCHAR) = CAST(b.barcode AS VARCHAR)\n",
    "WHERE DATE_TRUNC('month', r.dateScanned) = (SELECT month FROM most_recent_month)\n",
    "GROUP BY b.name\n",
    "ORDER BY number_of_scans DESC\n",
    "LIMIT 5;\"\"\")"
   ]
  },
  {
   "cell_type": "markdown",
   "id": "629b5fba",
   "metadata": {},
   "source": [
    "Probably something going on with the JOIN. Lets check our brand matches."
   ]
  },
  {
   "cell_type": "code",
   "execution_count": 23,
   "id": "98d70230",
   "metadata": {},
   "outputs": [
    {
     "data": {
      "text/plain": [
       "┌──────────────┐\n",
       "│ count_star() │\n",
       "│    int64     │\n",
       "├──────────────┤\n",
       "│           89 │\n",
       "└──────────────┘"
      ]
     },
     "execution_count": 23,
     "metadata": {},
     "output_type": "execute_result"
    }
   ],
   "source": [
    "conn.sql(\"\"\"SELECT COUNT(*)\n",
    "FROM receipt_items as ri\n",
    "JOIN brands as b ON CAST(ri.barcode AS VARCHAR) = CAST(b.barcode AS VARCHAR);\"\"\")"
   ]
  },
  {
   "cell_type": "markdown",
   "id": "c7c2e49a",
   "metadata": {},
   "source": [
    "Thats not a lot at all. This must be because there are a ton of nulls in the barcode column. This is a problem becuase it severey limits our analysis. With 7381 receipt_items but only 89 with matching barcodes, there is not a lot we can glean.\n",
    "\n",
    "Lets see if we can get a better story using the description column from the reciepts_items table."
   ]
  },
  {
   "cell_type": "code",
   "execution_count": 24,
   "id": "f5331b4b",
   "metadata": {},
   "outputs": [
    {
     "data": {
      "text/plain": [
       "┌─────────────────────────────────────────────────────────────────────────────────┬────────────────────┬───────────────┐\n",
       "│                                   description                                   │ number_of_receipts │  total_spent  │\n",
       "│                                     varchar                                     │       int64        │ decimal(38,3) │\n",
       "├─────────────────────────────────────────────────────────────────────────────────┼────────────────────┼───────────────┤\n",
       "│ mueller austria hypergrind precision electric spice/coffee grinder millwith l…  │                 13 │       298.610 │\n",
       "│ thindust summer face mask - sun protection neck gaiter for outdooractivities    │                 13 │       155.870 │\n",
       "└─────────────────────────────────────────────────────────────────────────────────┴────────────────────┴───────────────┘"
      ]
     },
     "execution_count": 24,
     "metadata": {},
     "output_type": "execute_result"
    }
   ],
   "source": [
    "conn.sql(\"\"\"\n",
    "WITH most_recent_month AS (\n",
    "    SELECT DATE_TRUNC('month', MAX(dateScanned)) as month\n",
    "    FROM receipts\n",
    ")\n",
    "SELECT \n",
    "    description,\n",
    "    COUNT(DISTINCT r._id) as number_of_receipts,\n",
    "    SUM(CAST(finalPrice AS DECIMAL)) as total_spent\n",
    "FROM receipt_items ri\n",
    "JOIN receipts r ON ri.receipt_id = r._id\n",
    "WHERE description IS NOT NULL\n",
    "    AND DATE_TRUNC('month', r.dateScanned) = (SELECT month FROM most_recent_month)\n",
    "GROUP BY description\n",
    "ORDER BY number_of_receipts DESC\n",
    "LIMIT 5;\"\"\")"
   ]
  },
  {
   "cell_type": "markdown",
   "id": "c248a795",
   "metadata": {},
   "source": [
    "## Question 4\n",
    "\n",
    "When considering total number of items purchased from receipts with 'rewardsReceiptStatus’ of ‘Accepted’ or ‘Rejected’, which is greater?\n",
    "\n",
    "Asumming that 'Accepted' is the same as 'FINISHED', we can see that the number of items purchased is greater for 'FINISHED' receipts."
   ]
  },
  {
   "cell_type": "code",
   "execution_count": 26,
   "id": "68a3bbd3",
   "metadata": {},
   "outputs": [
    {
     "data": {
      "text/plain": [
       "┌──────────────────────┬────────────────────┬───────────────────────┬──────────────────────────┐\n",
       "│ rewardsReceiptStatus │ number_of_receipts │ total_items_purchased │ total_quantity_purchased │\n",
       "│       varchar        │       int64        │         int64         │          double          │\n",
       "├──────────────────────┼────────────────────┼───────────────────────┼──────────────────────────┤\n",
       "│ FINISHED             │                518 │                  5920 │                   8176.0 │\n",
       "│ REJECTED             │                 71 │                   167 │                    141.0 │\n",
       "└──────────────────────┴────────────────────┴───────────────────────┴──────────────────────────┘"
      ]
     },
     "execution_count": 26,
     "metadata": {},
     "output_type": "execute_result"
    }
   ],
   "source": [
    "conn.sql(\"\"\"SELECT \n",
    "    r.rewardsReceiptStatus,\n",
    "    COUNT(DISTINCT r._id) as number_of_receipts,\n",
    "    COUNT(ri.*) as total_items_purchased,\n",
    "    SUM(ri.quantityPurchased) as total_quantity_purchased,\n",
    "FROM receipts r\n",
    "LEFT JOIN receipt_items ri ON r._id = ri.receipt_id\n",
    "WHERE r.rewardsReceiptStatus IN ('FINISHED', 'REJECTED')\n",
    "GROUP BY r.rewardsReceiptStatus\n",
    "ORDER BY total_items_purchased DESC;\"\"\")"
   ]
  },
  {
   "cell_type": "code",
   "execution_count": null,
   "id": "e779ed76",
   "metadata": {},
   "outputs": [],
   "source": []
  }
 ],
 "metadata": {
  "kernelspec": {
   "display_name": "fetch-challenge",
   "language": "python",
   "name": "fetch-challenge"
  },
  "language_info": {
   "codemirror_mode": {
    "name": "ipython",
    "version": 3
   },
   "file_extension": ".py",
   "mimetype": "text/x-python",
   "name": "python",
   "nbconvert_exporter": "python",
   "pygments_lexer": "ipython3",
   "version": "3.9.7"
  }
 },
 "nbformat": 4,
 "nbformat_minor": 5
}
